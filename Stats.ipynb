{
 "cells": [
  {
   "cell_type": "code",
   "execution_count": 49,
   "id": "b1365ebb",
   "metadata": {},
   "outputs": [],
   "source": [
    "import pandas as pd"
   ]
  },
  {
   "cell_type": "code",
   "execution_count": 78,
   "id": "035f1edd",
   "metadata": {},
   "outputs": [],
   "source": [
    "ndvi_jamaame=pd.read_csv(\"ndvi-jamaame.csv\", index_col=0)\n",
    "ndwi_jamaame=pd.read_csv(\"ndwi-jamaame.csv\", index_col=0)\n",
    "ndvi_kismaayo=pd.read_csv(\"ndvi-kismaayo.csv\", index_col=0)\n",
    "ndvi_poltsamaa=pd.read_csv(\"ndvi-p6ltsamaa.csv\", index_col=0)\n",
    "ndwi_poltsamaa=pd.read_csv(\"ndwi-p6ltsamaa.csv\", index_col=0)\n",
    "#Somalia\n",
    "ndvi_jamaame = ndvi_jamaame.iloc[:, 1]  # NDVI values\n",
    "ndwi_jamaame = ndwi_jamaame.iloc[:, 1]  # NDWI values\n",
    "ndvi_kismaayo = ndvi_kismaayo.iloc[:,1]\n",
    "#Estonia\n",
    "ndvi_poltsamaa=ndvi_poltsamaa.iloc[:, 1]\n",
    "ndwi_poltsamaa=ndwi_poltsamaa.iloc[:, 1]  # NDWI values\n"
   ]
  },
  {
   "cell_type": "code",
   "execution_count": 80,
   "id": "92a4c8f3",
   "metadata": {},
   "outputs": [
    {
     "name": "stdout",
     "output_type": "stream",
     "text": [
      "(351,)\n",
      "(351,)\n",
      "(683,)\n",
      "(683,)\n",
      "(352,)\n"
     ]
    }
   ],
   "source": [
    "print(ndvi_jamaame.shape)\n",
    "print(ndwi_jamaame.shape)\n",
    "print(ndvi_poltsamaa.shape)\n",
    "print(ndwi_poltsamaa.shape)\n",
    "print(ndvi_kismaayo.shape)"
   ]
  },
  {
   "cell_type": "code",
   "execution_count": null,
   "id": "88bfe6f1",
   "metadata": {},
   "outputs": [],
   "source": []
  },
  {
   "cell_type": "code",
   "execution_count": 81,
   "id": "a511e352",
   "metadata": {
    "scrolled": true
   },
   "outputs": [
    {
     "name": "stdout",
     "output_type": "stream",
     "text": [
      "                              NDVI      NDWI\n",
      "date                                        \n",
      "2019-01-03T00:00:00.000Z  0.205209  0.219616\n",
      "2019-01-08T00:00:00.000Z  0.266824  0.313082\n",
      "2019-01-13T00:00:00.000Z  0.110078  0.112421\n",
      "2019-01-18T00:00:00.000Z  0.289941  0.346885\n",
      "2019-01-23T00:00:00.000Z  0.286526  0.355312\n",
      "                              NDVI      NDWI\n",
      "date                                        \n",
      "2019-01-02T00:00:00.000Z  0.040186  0.077825\n",
      "2019-01-05T00:00:00.000Z  0.015675  0.031527\n",
      "2019-01-07T00:00:00.000Z -0.032679 -0.072642\n",
      "2019-01-10T00:00:00.000Z  0.018716  0.034410\n",
      "2019-01-12T00:00:00.000Z  0.074013  0.107932\n",
      "                              NDVI      NDWI\n",
      "date                                        \n",
      "2019-01-03T00:00:00.000Z  0.205209  0.219616\n",
      "2019-01-08T00:00:00.000Z  0.266824  0.313082\n",
      "2019-01-13T00:00:00.000Z  0.110078  0.112421\n",
      "2019-01-18T00:00:00.000Z  0.289941  0.346885\n",
      "2019-01-23T00:00:00.000Z  0.286526  0.355312\n",
      "(351, 2)\n",
      "                              NDVI      NDWI\n",
      "date                                        \n",
      "2019-01-02T00:00:00.000Z  0.040186  0.077825\n",
      "2019-01-05T00:00:00.000Z  0.015675  0.031527\n",
      "2019-01-07T00:00:00.000Z -0.032679 -0.072642\n",
      "2019-01-10T00:00:00.000Z  0.018716  0.034410\n",
      "2019-01-12T00:00:00.000Z  0.074013  0.107932\n",
      "(683, 2)\n"
     ]
    }
   ],
   "source": [
    "#The indices of the df (the dates of the data) are in random order, so we have to sort them.\n",
    "#Soamlia\n",
    "# Sorting NDVI values by index\n",
    "sorted_ndvi = ndvi_jamaame.sort_index()\n",
    "\n",
    "# Sorting NDWI values by index\n",
    "sorted_ndwi = ndwi_jamaame.sort_index()\n",
    "\n",
    "df_jamaame=pd.concat([sorted_ndvi,sorted_ndwi], axis=1)\n",
    "\n",
    "#Estonia\n",
    "# Sorting NDVI values by index\n",
    "sorted_ndvi = ndvi_poltsamaa.sort_index()\n",
    "\n",
    "# Sorting NDWI values by index\n",
    "sorted_ndwi = ndwi_poltsamaa.sort_index()\n",
    "\n",
    "df_poltsamaa=pd.concat([sorted_ndvi,sorted_ndwi], axis=1)\n",
    "\n",
    "df_jamaame.columns = ['NDVI', 'NDWI']\n",
    "df_poltsamaa.columns = ['NDVI', 'NDWI']\n",
    "\n",
    "df_kismaayo = ndvi_kismaayo.sort_index()\n",
    "\n",
    "df_kismaayo.columns =['NDVI']\n",
    "\n",
    "print(df_jamaame.head())\n",
    "print(df_poltsamaa.head())\n",
    "\n",
    "print(df_jamaame.head())\n",
    "print(df_jamaame.shape)\n",
    "print(df_poltsamaa.head())\n",
    "print(df_poltsamaa.shape)"
   ]
  },
  {
   "cell_type": "code",
   "execution_count": 62,
   "id": "6cccf44f",
   "metadata": {
    "scrolled": true
   },
   "outputs": [
    {
     "name": "stdout",
     "output_type": "stream",
     "text": [
      "                           NDVI_jamaame  NDWI_jamaame  NDVI_poltsamaa  \\\n",
      "date                                                                    \n",
      "2019-01-31 00:00:00+00:00      0.229500      0.270622        0.029477   \n",
      "2019-02-28 00:00:00+00:00      0.203935      0.260080        0.021019   \n",
      "2019-03-31 00:00:00+00:00      0.185907      0.258782        0.095087   \n",
      "2019-04-30 00:00:00+00:00      0.177542      0.247276        0.280335   \n",
      "2019-05-31 00:00:00+00:00      0.079137      0.090439        0.295475   \n",
      "\n",
      "                           NDWI_poltsamaa  \n",
      "date                                       \n",
      "2019-01-31 00:00:00+00:00        0.049899  \n",
      "2019-02-28 00:00:00+00:00        0.026818  \n",
      "2019-03-31 00:00:00+00:00        0.113847  \n",
      "2019-04-30 00:00:00+00:00        0.328918  \n",
      "2019-05-31 00:00:00+00:00        0.274887  \n",
      "(59, 4)\n"
     ]
    }
   ],
   "source": [
    "# Convert the index to a DateTimeIndex if it's not already\n",
    "df_jamaame.index = pd.to_datetime(df_jamaame.index)\n",
    "df_poltsamaa.index = pd.to_datetime(df_poltsamaa.index)\n",
    "\n",
    "# Group by month and aggregate the data\n",
    "df_jamaame_monthly = df_jamaame.groupby(pd.Grouper(freq='M')).mean()\n",
    "df_poltsamaa_monthly = df_poltsamaa.groupby(pd.Grouper(freq='M')).mean()\n",
    "\n",
    "# Join the DataFrames based on the month\n",
    "merged_monthly = pd.merge(df_jamaame_monthly, df_poltsamaa_monthly, left_index=True, right_index=True, suffixes=('_jamaame', '_poltsamaa'), how='inner')\n",
    "\n",
    "print(merged_monthly.head())\n",
    "print(merged_monthly.shape)"
   ]
  },
  {
   "cell_type": "code",
   "execution_count": 82,
   "id": "b0016228",
   "metadata": {},
   "outputs": [
    {
     "name": "stdout",
     "output_type": "stream",
     "text": [
      "                               NDVI      NDWI  avg(band_0)\n",
      "date                                                      \n",
      "2019-01-31 00:00:00+00:00  0.229500  0.270622     0.086471\n",
      "2019-02-28 00:00:00+00:00  0.203935  0.260080     0.103767\n",
      "2019-03-31 00:00:00+00:00  0.185907  0.258782     0.089783\n",
      "2019-04-30 00:00:00+00:00  0.177542  0.247276     0.103825\n",
      "2019-05-31 00:00:00+00:00  0.079137  0.090439     0.050753\n",
      "(59, 3)\n"
     ]
    }
   ],
   "source": [
    "# Convert the index to a DateTimeIndex if it's not already\n",
    "df_kismaayo.index = pd.to_datetime(df_kismaayo.index)\n",
    "\n",
    "# Group by month and aggregate the data\n",
    "df_kismaayo_monthly = df_kismaayo.groupby(pd.Grouper(freq='M')).mean()\n",
    "\n",
    "# Join the DataFrames based on the month\n",
    "merged_monthly_somalia = pd.merge(df_jamaame_monthly, df_kismaayo_monthly, left_index=True, right_index=True, suffixes=('_jamaame', '_poltsamaa'), how='inner')\n",
    "\n",
    "print(merged_monthly_somalia.head())\n",
    "print(merged_monthly_somalia.shape)"
   ]
  },
  {
   "cell_type": "code",
   "execution_count": 65,
   "id": "555ec7ef",
   "metadata": {},
   "outputs": [
    {
     "data": {
      "text/plain": [
       "<matplotlib.collections.PathCollection at 0x7fed3ad38b50>"
      ]
     },
     "execution_count": 65,
     "metadata": {},
     "output_type": "execute_result"
    },
    {
     "data": {
      "image/png": "[encoded data removed]",
      "text/plain": [
       "<Figure size 640x480 with 1 Axes>"
      ]
     },
     "metadata": {},
     "output_type": "display_data"
    }
   ],
   "source": [
    "import matplotlib.pyplot as plt\n",
    "\n",
    "plt.scatter(merged_monthly['NDVI_jamaame'],merged_monthly['NDVI_poltsamaa'])\n"
   ]
  },
  {
   "cell_type": "code",
   "execution_count": 68,
   "id": "81e711db",
   "metadata": {},
   "outputs": [
    {
     "name": "stdout",
     "output_type": "stream",
     "text": [
      "Correlation Coefficient: 0.18342381785785372\n",
      "P-value: 0.16434980926351297\n",
      "Correlation Coefficient: -0.0577401804599009\n",
      "P-value: 0.6640095730736132\n"
     ]
    }
   ],
   "source": [
    "import scipy.stats\n",
    "def compute_corr(ts1,ts2):\n",
    "    # Assuming ndvi_dat and ndwi_dat are Pandas DataFrames or Series\n",
    "    # Accessing the columns of interest (iloc assumes column index, change as needed)\n",
    "\n",
    "    # Calculate the correlation coefficient\n",
    "    correlation_coefficient, p_value = scipy.stats.pearsonr(ts1, ts2)\n",
    "\n",
    "    print(f\"Correlation Coefficient: {correlation_coefficient}\")\n",
    "    print(f\"P-value: {p_value}\")\n",
    "    \n",
    "compute_corr(merged_monthly['NDVI_jamaame'],merged_monthly['NDVI_poltsamaa'])\n",
    "compute_corr(merged_monthly['NDWI_jamaame'],merged_monthly['NDWI_poltsamaa'])"
   ]
  },
  {
   "cell_type": "code",
   "execution_count": 70,
   "id": "ac3de208",
   "metadata": {},
   "outputs": [
    {
     "name": "stdout",
     "output_type": "stream",
     "text": [
      "Mean NDVI for Jamaame: 0.1887557992583183\n",
      "Mean NDVI for Poltsama 0.19702849885193627\n",
      "T-statistic: -0.4019496784262492\n",
      "P-value: 0.6884606910987134\n"
     ]
    }
   ],
   "source": [
    "NDVI_mean_jamaame = np.mean(merged_monthly['NDVI_jamaame'])\n",
    "NDVI_mean_poltsamaa = np.mean(merged_monthly['NDVI_poltsamaa'])\n",
    "\n",
    "t_stat, p_value = stats.ttest_ind(merged_monthly['NDVI_jamaame'], merged_monthly['NDVI_poltsamaa'])\n",
    "print(\"Mean NDVI for Jamaame:\", NDVI_mean_jamaame)\n",
    "print(\"Mean NDVI for Poltsama\", NDVI_mean_poltsamaa)\n",
    "print(\"T-statistic:\", t_stat)\n",
    "print(\"P-value:\", p_value)"
   ]
  },
  {
   "cell_type": "code",
   "execution_count": 61,
   "id": "7365b88c",
   "metadata": {
    "scrolled": true
   },
   "outputs": [
    {
     "name": "stdout",
     "output_type": "stream",
     "text": [
      "Empty DataFrame\n",
      "Columns: [NDVI_jamaame, NDWI_jamaame, NDVI_poltsamaa, NDWI_poltsamaa]\n",
      "Index: []\n"
     ]
    }
   ],
   "source": [
    "print(merged_df)"
   ]
  },
  {
   "cell_type": "code",
   "execution_count": 41,
   "id": "380d4fc1",
   "metadata": {},
   "outputs": [],
   "source": [
    "df_jamaame.index = pd.to_datetime(df_jamaame.index)\n",
    "#Before the drought\n",
    "df_2019 = df_jamaame[df_jamaame.index.year == 2019]\n",
    "\n",
    "# After the drought\n",
    "df_after_2019 = df_jamaame[df_jamaame.index > '2019-12-31']"
   ]
  },
  {
   "cell_type": "code",
   "execution_count": 48,
   "id": "03cb444f",
   "metadata": {},
   "outputs": [
    {
     "name": "stdout",
     "output_type": "stream",
     "text": [
      "Mean NDVI for 2019: 0.18932443894781034\n",
      "Mean NDVI after 2019: 0.19122767614240738\n",
      "T-statistic: -0.140638474719631\n",
      "P-value: 0.8882366875080384\n"
     ]
    }
   ],
   "source": [
    "import numpy as np\n",
    "from scipy import stats\n",
    "# Perform the t-test\n",
    "mean_ndvi_2019 = np.mean(df_2019['NDVI'])\n",
    "mean_ndvi_after_2019 = np.mean(df_after_2019['NDVI'])\n",
    "\n",
    "t_stat, p_value = stats.ttest_ind(df_2019['NDVI'], df_after_2019['NDVI'])\n",
    "\n",
    "print(\"Mean NDVI for 2019:\", mean_ndvi_2019)\n",
    "print(\"Mean NDVI after 2019:\", mean_ndvi_after_2019)\n",
    "print(\"T-statistic:\", t_stat)\n",
    "print(\"P-value:\", p_value)"
   ]
  },
  {
   "cell_type": "code",
   "execution_count": null,
   "id": "3775b644",
   "metadata": {},
   "outputs": [],
   "source": [
    "import matplotlib.pyplot as plt\n",
    "\n",
    "plt.bar()"
   ]
  }
 ],
 "metadata": {
  "kernelspec": {
   "display_name": "Python 3 (ipykernel)",
   "language": "python",
   "name": "python3"
  },
  "language_info": {
   "codemirror_mode": {
    "name": "ipython",
    "version": 3
   },
   "file_extension": ".py",
   "mimetype": "text/x-python",
   "name": "python",
   "nbconvert_exporter": "python",
   "pygments_lexer": "ipython3",
   "version": "3.9.13"
  }
 },
 "nbformat": 4,
 "nbformat_minor": 5
}
